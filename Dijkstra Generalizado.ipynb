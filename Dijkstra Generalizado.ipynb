{
 "cells": [
  {
   "cell_type": "code",
   "execution_count": null,
   "id": "adb31902",
   "metadata": {},
   "outputs": [],
   "source": [
    "import numpy as np\n",
    "def dijkstra(V,v0,D,P,Camino):\n",
    "    DVS=np.zeros(len(D))\n",
    "    S = [v0];\n",
    "    D[v0]=-float('inf');\n",
    "    #print(1,'D=',D,'P=',P,'DVS=',DVS)\n",
    "    for x in V:\n",
    "        DVS[x]=float('inf')\n",
    "        if x not in S:\n",
    "            D[x]=dist(v0,x);\n",
    "            P[x]=v0;\n",
    "            DVS[x]=dist(v0,x);\n",
    "    #print(2,'D=',D,'P=',P,'DVS=',DVS)\n",
    "    while V!=sorted(S):\n",
    "        for x in V:\n",
    "            DVS[x]=float('inf')\n",
    "            if x not in S:\n",
    "                DVS[x]=D[x];\n",
    "        w=np.argmin(DVS)\n",
    "        S.append(w)\n",
    "        #print(3,'w=',w,'S=',S,'DVS=',DVS)\n",
    "        for x in V:\n",
    "            if x not in S:\n",
    "                #print(4,'dist(v0,w)=',D[w],'dist(w,x)=',dist(w,x),'dist(v0,x)=',D[x])\n",
    "                if D[w]+dist(w,x) < D[x]:\n",
    "                    D[x] = D[w] + dist(w,x);\n",
    "                    P[x] = w;\n",
    "                    DVS[x]=D[w] + dist(w,x);\n",
    "                #print(D,P)\n",
    "    #print(5,'D=',D,'P=',P)\n",
    "    for x in V:\n",
    "        if x!=v0:\n",
    "            cam=[];\n",
    "            aux=x;\n",
    "            #print(7,'aux=',aux,'v0=',v0,'P=',P)\n",
    "            while aux!=v0:\n",
    "                cam.insert(0,aux);\n",
    "                aux=P[aux]\n",
    "                #print(8,'aux=',aux,'cam=',cam)\n",
    "            cam.insert(0,v0);\n",
    "            Camino[x]=cam\n",
    "            #print(9,'Caminos=',Camino,'cam=',cam)\n",
    "    Camino1=Camino\n",
    "    return D,Camino1"
   ]
  },
  {
   "cell_type": "code",
   "execution_count": null,
   "id": "c4d104c8",
   "metadata": {},
   "outputs": [],
   "source": [
    "def listd(n):\n",
    "    l=[]\n",
    "    D=[]\n",
    "    P=[]\n",
    "    for i in range(n):\n",
    "        l.append(i)\n",
    "        D.append(0)\n",
    "        P.append(0)\n",
    "    return l,D,P"
   ]
  },
  {
   "cell_type": "code",
   "execution_count": null,
   "id": "1e74d117",
   "metadata": {
    "scrolled": true
   },
   "outputs": [],
   "source": [
    "import random\n",
    "import numpy as np\n",
    "def matd(n):\n",
    "    A=np.zeros((n+1,n+1))\n",
    "    for i in range(n+1):\n",
    "        for j in range(n+1):\n",
    "            if i!=j:\n",
    "                A[i][j]=int(random.randint(0, 50))\n",
    "                if A[i][j]==0:\n",
    "                    A[i][j]=float('inf')\n",
    "            else:\n",
    "                A[i][j]=-float('inf')\n",
    "    return A\n",
    "#for k in range(len(A[0])):\n",
    "    #print(A[k])"
   ]
  },
  {
   "cell_type": "code",
   "execution_count": null,
   "id": "6ca8bff9",
   "metadata": {},
   "outputs": [],
   "source": [
    "import numpy as np\n",
    "global Camino1\n",
    "def dijkstratop(l,d,p,Cami):\n",
    "    Dt=np.zeros((len(l),len(l)));\n",
    "    Caminost=[]\n",
    "    for i in range(len(l)):\n",
    "        Caminost.append([])\n",
    "    for t in range(len(l)):\n",
    "        dijkstra(l,t,d,p,Cami);\n",
    "        Dt[t]=dijkstra(l,t,d,p,Cami)[0];\n",
    "        Caminost[t]=dijkstra(l,t,d,p,Cami)[1];\n",
    "        Cami=[]\n",
    "        for i in range(len(l)):\n",
    "            Cami.append([])\n",
    "    return(Dt,Caminost)"
   ]
  },
  {
   "cell_type": "code",
   "execution_count": null,
   "id": "6f4cb95c",
   "metadata": {},
   "outputs": [],
   "source": [
    "def dist(x,y):\n",
    "    return A[x][y]"
   ]
  },
  {
   "cell_type": "code",
   "execution_count": null,
   "id": "771c34da",
   "metadata": {},
   "outputs": [],
   "source": [
    "import numpy as np\n",
    "import timeit\n",
    "Lt=np.zeros(100)\n",
    "print(Lt)\n",
    "for n in range(1,100):\n",
    "    Ltr=0\n",
    "    for r in range(10):\n",
    "        A=matd(n)\n",
    "        l=listd(n)[0]\n",
    "        D=listd(n)[1]\n",
    "        P=listd(n)[2]\n",
    "        Caminos=[]\n",
    "        for k in range(n):\n",
    "            Caminos.append([])\n",
    "        #print(l,D,P)\n",
    "        t1=timeit.default_timer()\n",
    "        dijkstratop(l,D,P,Caminos)\n",
    "        t2=timeit.default_timer()\n",
    "        Ltr=Ltr+(t2-t1)\n",
    "    Lt[n]=Ltr/10\n",
    "    print('n=',n,'time=',Lt[n])\n",
    "print(Lt)\n",
    "plt.figure(figsize=(7, 3.7))\n",
    "p1=plt.plot(listd(100)[0], Lt, 'go')\n",
    "plt.axis()\n",
    "plt.ylabel('Coste temporal en s')\n",
    "plt.xlabel('Número de nodos del grafo')\n",
    "plt.show(p1)"
   ]
  }
 ],
 "metadata": {
  "kernelspec": {
   "display_name": "Python 3 (ipykernel)",
   "language": "python",
   "name": "python3"
  },
  "language_info": {
   "codemirror_mode": {
    "name": "ipython",
    "version": 3
   },
   "file_extension": ".py",
   "mimetype": "text/x-python",
   "name": "python",
   "nbconvert_exporter": "python",
   "pygments_lexer": "ipython3",
   "version": "3.9.7"
  }
 },
 "nbformat": 4,
 "nbformat_minor": 5
}
